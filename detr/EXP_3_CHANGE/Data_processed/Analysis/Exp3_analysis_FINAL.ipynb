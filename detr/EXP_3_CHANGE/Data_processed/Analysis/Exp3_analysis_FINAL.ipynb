{
  "cells": [
    {
      "cell_type": "markdown",
      "metadata": {
        "id": "0EkWmUqq2e1B"
      },
      "source": [
        "Need data files \"exp3a_data.csv\" and \"exp3b_data.csv\""
      ]
    },
    {
      "cell_type": "markdown",
      "metadata": {
        "id": "6eMp0OYn4EtF"
      },
      "source": [
        "# Load Libraries"
      ]
    },
    {
      "cell_type": "code",
      "execution_count": 2,
      "metadata": {
        "id": "fz9SpYug-_Wn"
      },
      "outputs": [],
      "source": [
        "import pandas as pd\n",
        "import numpy as np\n",
        "import matplotlib.pyplot as plt\n",
        "from scipy import stats\n",
        "from matplotlib.patches import Patch"
      ]
    },
    {
      "cell_type": "markdown",
      "metadata": {
        "id": "6B4y7Pq04IN1"
      },
      "source": [
        "# Process Data"
      ]
    },
    {
      "cell_type": "code",
      "execution_count": 3,
      "metadata": {
        "id": "lx_91rZU_JHk"
      },
      "outputs": [],
      "source": [
        "data3a = pd.read_csv('../Data/exp3a_data.csv')\n",
        "data3b = pd.read_csv('../Data/exp3b_data.csv')"
      ]
    },
    {
      "cell_type": "code",
      "execution_count": 4,
      "metadata": {
        "id": "CH9xmRZcapBc"
      },
      "outputs": [],
      "source": [
        "data3a[\"condition\"] = data3a[\"shape\"] + \"_\" + data3a[\"changeType\"]\n",
        "data3b[\"condition\"] = data3b[\"shape\"] + \"_\" + data3b[\"changeType\"]"
      ]
    },
    {
      "cell_type": "code",
      "execution_count": 5,
      "metadata": {
        "colab": {
          "base_uri": "https://localhost:8080/",
          "height": 270
        },
        "id": "W1ZE9v_Y_YdV",
        "outputId": "1913b340-14d1-4fe3-ac3d-830776c9cb5c"
      },
      "outputs": [
        {
          "data": {
            "application/vnd.microsoft.datawrangler.viewer.v0+json": {
              "columns": [
                {
                  "name": "index",
                  "rawType": "int64",
                  "type": "integer"
                },
                {
                  "name": "shape",
                  "rawType": "object",
                  "type": "string"
                },
                {
                  "name": "changeType",
                  "rawType": "object",
                  "type": "string"
                },
                {
                  "name": "blockNum",
                  "rawType": "int64",
                  "type": "integer"
                },
                {
                  "name": "trialID",
                  "rawType": "int64",
                  "type": "integer"
                },
                {
                  "name": "response",
                  "rawType": "object",
                  "type": "string"
                },
                {
                  "name": "confidence",
                  "rawType": "int64",
                  "type": "integer"
                },
                {
                  "name": "rt",
                  "rawType": "float64",
                  "type": "float"
                },
                {
                  "name": "experimentVersion",
                  "rawType": "object",
                  "type": "string"
                },
                {
                  "name": "correctAnswer",
                  "rawType": "object",
                  "type": "string"
                },
                {
                  "name": "fullShapeName",
                  "rawType": "object",
                  "type": "string"
                },
                {
                  "name": "responded_correctly",
                  "rawType": "int64",
                  "type": "integer"
                },
                {
                  "name": "analysisChangeType",
                  "rawType": "object",
                  "type": "string"
                },
                {
                  "name": "subject",
                  "rawType": "int64",
                  "type": "integer"
                },
                {
                  "name": "condition",
                  "rawType": "object",
                  "type": "string"
                }
              ],
              "conversionMethod": "pd.DataFrame",
              "ref": "57a3bf0c-8d56-4349-a051-40c7bcac0259",
              "rows": [
                [
                  "0",
                  "shape3",
                  "no_change2",
                  "0",
                  "0",
                  "same",
                  "9",
                  "9077.0",
                  "v001",
                  "same",
                  "shape3_no_change2",
                  "1",
                  "none",
                  "1",
                  "shape3_no_change2"
                ],
                [
                  "1",
                  "shape1",
                  "no_change1",
                  "0",
                  "1",
                  "same",
                  "9",
                  "3606.0",
                  "v001",
                  "same",
                  "shape1_no_change1",
                  "1",
                  "none",
                  "1",
                  "shape1_no_change1"
                ],
                [
                  "2",
                  "shape5",
                  "no_change3",
                  "0",
                  "2",
                  "same",
                  "8",
                  "2494.0",
                  "v001",
                  "same",
                  "shape5_no_change3",
                  "1",
                  "none",
                  "1",
                  "shape5_no_change3"
                ],
                [
                  "3",
                  "shape6",
                  "no_change1",
                  "0",
                  "3",
                  "same",
                  "8",
                  "4671.0",
                  "v001",
                  "same",
                  "shape6_no_change1",
                  "1",
                  "none",
                  "1",
                  "shape6_no_change1"
                ],
                [
                  "4",
                  "shape2",
                  "no_change2",
                  "0",
                  "4",
                  "same",
                  "8",
                  "2797.0",
                  "v001",
                  "same",
                  "shape2_no_change2",
                  "1",
                  "none",
                  "1",
                  "shape2_no_change2"
                ]
              ],
              "shape": {
                "columns": 14,
                "rows": 5
              }
            },
            "text/html": [
              "<div>\n",
              "<style scoped>\n",
              "    .dataframe tbody tr th:only-of-type {\n",
              "        vertical-align: middle;\n",
              "    }\n",
              "\n",
              "    .dataframe tbody tr th {\n",
              "        vertical-align: top;\n",
              "    }\n",
              "\n",
              "    .dataframe thead th {\n",
              "        text-align: right;\n",
              "    }\n",
              "</style>\n",
              "<table border=\"1\" class=\"dataframe\">\n",
              "  <thead>\n",
              "    <tr style=\"text-align: right;\">\n",
              "      <th></th>\n",
              "      <th>shape</th>\n",
              "      <th>changeType</th>\n",
              "      <th>blockNum</th>\n",
              "      <th>trialID</th>\n",
              "      <th>response</th>\n",
              "      <th>confidence</th>\n",
              "      <th>rt</th>\n",
              "      <th>experimentVersion</th>\n",
              "      <th>correctAnswer</th>\n",
              "      <th>fullShapeName</th>\n",
              "      <th>responded_correctly</th>\n",
              "      <th>analysisChangeType</th>\n",
              "      <th>subject</th>\n",
              "      <th>condition</th>\n",
              "    </tr>\n",
              "  </thead>\n",
              "  <tbody>\n",
              "    <tr>\n",
              "      <th>0</th>\n",
              "      <td>shape3</td>\n",
              "      <td>no_change2</td>\n",
              "      <td>0</td>\n",
              "      <td>0</td>\n",
              "      <td>same</td>\n",
              "      <td>9</td>\n",
              "      <td>9077.0</td>\n",
              "      <td>v001</td>\n",
              "      <td>same</td>\n",
              "      <td>shape3_no_change2</td>\n",
              "      <td>1</td>\n",
              "      <td>none</td>\n",
              "      <td>1</td>\n",
              "      <td>shape3_no_change2</td>\n",
              "    </tr>\n",
              "    <tr>\n",
              "      <th>1</th>\n",
              "      <td>shape1</td>\n",
              "      <td>no_change1</td>\n",
              "      <td>0</td>\n",
              "      <td>1</td>\n",
              "      <td>same</td>\n",
              "      <td>9</td>\n",
              "      <td>3606.0</td>\n",
              "      <td>v001</td>\n",
              "      <td>same</td>\n",
              "      <td>shape1_no_change1</td>\n",
              "      <td>1</td>\n",
              "      <td>none</td>\n",
              "      <td>1</td>\n",
              "      <td>shape1_no_change1</td>\n",
              "    </tr>\n",
              "    <tr>\n",
              "      <th>2</th>\n",
              "      <td>shape5</td>\n",
              "      <td>no_change3</td>\n",
              "      <td>0</td>\n",
              "      <td>2</td>\n",
              "      <td>same</td>\n",
              "      <td>8</td>\n",
              "      <td>2494.0</td>\n",
              "      <td>v001</td>\n",
              "      <td>same</td>\n",
              "      <td>shape5_no_change3</td>\n",
              "      <td>1</td>\n",
              "      <td>none</td>\n",
              "      <td>1</td>\n",
              "      <td>shape5_no_change3</td>\n",
              "    </tr>\n",
              "    <tr>\n",
              "      <th>3</th>\n",
              "      <td>shape6</td>\n",
              "      <td>no_change1</td>\n",
              "      <td>0</td>\n",
              "      <td>3</td>\n",
              "      <td>same</td>\n",
              "      <td>8</td>\n",
              "      <td>4671.0</td>\n",
              "      <td>v001</td>\n",
              "      <td>same</td>\n",
              "      <td>shape6_no_change1</td>\n",
              "      <td>1</td>\n",
              "      <td>none</td>\n",
              "      <td>1</td>\n",
              "      <td>shape6_no_change1</td>\n",
              "    </tr>\n",
              "    <tr>\n",
              "      <th>4</th>\n",
              "      <td>shape2</td>\n",
              "      <td>no_change2</td>\n",
              "      <td>0</td>\n",
              "      <td>4</td>\n",
              "      <td>same</td>\n",
              "      <td>8</td>\n",
              "      <td>2797.0</td>\n",
              "      <td>v001</td>\n",
              "      <td>same</td>\n",
              "      <td>shape2_no_change2</td>\n",
              "      <td>1</td>\n",
              "      <td>none</td>\n",
              "      <td>1</td>\n",
              "      <td>shape2_no_change2</td>\n",
              "    </tr>\n",
              "  </tbody>\n",
              "</table>\n",
              "</div>"
            ],
            "text/plain": [
              "    shape  changeType  blockNum  trialID response  confidence      rt  \\\n",
              "0  shape3  no_change2         0        0     same           9  9077.0   \n",
              "1  shape1  no_change1         0        1     same           9  3606.0   \n",
              "2  shape5  no_change3         0        2     same           8  2494.0   \n",
              "3  shape6  no_change1         0        3     same           8  4671.0   \n",
              "4  shape2  no_change2         0        4     same           8  2797.0   \n",
              "\n",
              "  experimentVersion correctAnswer      fullShapeName  responded_correctly  \\\n",
              "0              v001          same  shape3_no_change2                    1   \n",
              "1              v001          same  shape1_no_change1                    1   \n",
              "2              v001          same  shape5_no_change3                    1   \n",
              "3              v001          same  shape6_no_change1                    1   \n",
              "4              v001          same  shape2_no_change2                    1   \n",
              "\n",
              "  analysisChangeType  subject          condition  \n",
              "0               none        1  shape3_no_change2  \n",
              "1               none        1  shape1_no_change1  \n",
              "2               none        1  shape5_no_change3  \n",
              "3               none        1  shape6_no_change1  \n",
              "4               none        1  shape2_no_change2  "
            ]
          },
          "execution_count": 5,
          "metadata": {},
          "output_type": "execute_result"
        }
      ],
      "source": [
        "data3a.head()"
      ]
    },
    {
      "cell_type": "code",
      "execution_count": 6,
      "metadata": {
        "colab": {
          "base_uri": "https://localhost:8080/",
          "height": 270
        },
        "id": "rY0u08nA4LMd",
        "outputId": "e708aac2-da4c-47ae-a0cd-d6eff5a386d4"
      },
      "outputs": [
        {
          "data": {
            "application/vnd.microsoft.datawrangler.viewer.v0+json": {
              "columns": [
                {
                  "name": "index",
                  "rawType": "int64",
                  "type": "integer"
                },
                {
                  "name": "shape",
                  "rawType": "object",
                  "type": "string"
                },
                {
                  "name": "changeType",
                  "rawType": "object",
                  "type": "string"
                },
                {
                  "name": "blockNum",
                  "rawType": "int64",
                  "type": "integer"
                },
                {
                  "name": "trialID",
                  "rawType": "int64",
                  "type": "integer"
                },
                {
                  "name": "response",
                  "rawType": "object",
                  "type": "string"
                },
                {
                  "name": "confidence",
                  "rawType": "int64",
                  "type": "integer"
                },
                {
                  "name": "rt",
                  "rawType": "float64",
                  "type": "float"
                },
                {
                  "name": "experimentVersion",
                  "rawType": "object",
                  "type": "string"
                },
                {
                  "name": "correctAnswer",
                  "rawType": "object",
                  "type": "string"
                },
                {
                  "name": "fullShapeName",
                  "rawType": "object",
                  "type": "string"
                },
                {
                  "name": "responded_correctly",
                  "rawType": "int64",
                  "type": "integer"
                },
                {
                  "name": "analysisChangeType",
                  "rawType": "object",
                  "type": "string"
                },
                {
                  "name": "subject",
                  "rawType": "int64",
                  "type": "integer"
                },
                {
                  "name": "condition",
                  "rawType": "object",
                  "type": "string"
                }
              ],
              "conversionMethod": "pd.DataFrame",
              "ref": "6b29b6f4-c82a-4f4d-99e1-92d94096d3c3",
              "rows": [
                [
                  "0",
                  "shape6",
                  "no_change1",
                  "0",
                  "0",
                  "same",
                  "8",
                  "5088.3",
                  "control",
                  "same",
                  "shape6_no_change1",
                  "1",
                  "none",
                  "1",
                  "shape6_no_change1"
                ],
                [
                  "1",
                  "catch_shape",
                  "change1",
                  "0",
                  "1",
                  "different",
                  "9",
                  "3265.9",
                  "control",
                  "different",
                  "catch_shape_change1",
                  "1",
                  "none",
                  "1",
                  "catch_shape_change1"
                ],
                [
                  "2",
                  "shape4",
                  "no_change1",
                  "0",
                  "2",
                  "same",
                  "9",
                  "2182.2",
                  "control",
                  "same",
                  "shape4_no_change1",
                  "1",
                  "none",
                  "1",
                  "shape4_no_change1"
                ],
                [
                  "3",
                  "shape5",
                  "no_change4",
                  "0",
                  "3",
                  "same",
                  "9",
                  "3093.5",
                  "control",
                  "same",
                  "shape5_no_change4",
                  "1",
                  "none",
                  "1",
                  "shape5_no_change4"
                ],
                [
                  "4",
                  "shape1",
                  "no_change4",
                  "0",
                  "4",
                  "same",
                  "9",
                  "1870.6",
                  "control",
                  "same",
                  "shape1_no_change4",
                  "1",
                  "none",
                  "1",
                  "shape1_no_change4"
                ]
              ],
              "shape": {
                "columns": 14,
                "rows": 5
              }
            },
            "text/html": [
              "<div>\n",
              "<style scoped>\n",
              "    .dataframe tbody tr th:only-of-type {\n",
              "        vertical-align: middle;\n",
              "    }\n",
              "\n",
              "    .dataframe tbody tr th {\n",
              "        vertical-align: top;\n",
              "    }\n",
              "\n",
              "    .dataframe thead th {\n",
              "        text-align: right;\n",
              "    }\n",
              "</style>\n",
              "<table border=\"1\" class=\"dataframe\">\n",
              "  <thead>\n",
              "    <tr style=\"text-align: right;\">\n",
              "      <th></th>\n",
              "      <th>shape</th>\n",
              "      <th>changeType</th>\n",
              "      <th>blockNum</th>\n",
              "      <th>trialID</th>\n",
              "      <th>response</th>\n",
              "      <th>confidence</th>\n",
              "      <th>rt</th>\n",
              "      <th>experimentVersion</th>\n",
              "      <th>correctAnswer</th>\n",
              "      <th>fullShapeName</th>\n",
              "      <th>responded_correctly</th>\n",
              "      <th>analysisChangeType</th>\n",
              "      <th>subject</th>\n",
              "      <th>condition</th>\n",
              "    </tr>\n",
              "  </thead>\n",
              "  <tbody>\n",
              "    <tr>\n",
              "      <th>0</th>\n",
              "      <td>shape6</td>\n",
              "      <td>no_change1</td>\n",
              "      <td>0</td>\n",
              "      <td>0</td>\n",
              "      <td>same</td>\n",
              "      <td>8</td>\n",
              "      <td>5088.3</td>\n",
              "      <td>control</td>\n",
              "      <td>same</td>\n",
              "      <td>shape6_no_change1</td>\n",
              "      <td>1</td>\n",
              "      <td>none</td>\n",
              "      <td>1</td>\n",
              "      <td>shape6_no_change1</td>\n",
              "    </tr>\n",
              "    <tr>\n",
              "      <th>1</th>\n",
              "      <td>catch_shape</td>\n",
              "      <td>change1</td>\n",
              "      <td>0</td>\n",
              "      <td>1</td>\n",
              "      <td>different</td>\n",
              "      <td>9</td>\n",
              "      <td>3265.9</td>\n",
              "      <td>control</td>\n",
              "      <td>different</td>\n",
              "      <td>catch_shape_change1</td>\n",
              "      <td>1</td>\n",
              "      <td>none</td>\n",
              "      <td>1</td>\n",
              "      <td>catch_shape_change1</td>\n",
              "    </tr>\n",
              "    <tr>\n",
              "      <th>2</th>\n",
              "      <td>shape4</td>\n",
              "      <td>no_change1</td>\n",
              "      <td>0</td>\n",
              "      <td>2</td>\n",
              "      <td>same</td>\n",
              "      <td>9</td>\n",
              "      <td>2182.2</td>\n",
              "      <td>control</td>\n",
              "      <td>same</td>\n",
              "      <td>shape4_no_change1</td>\n",
              "      <td>1</td>\n",
              "      <td>none</td>\n",
              "      <td>1</td>\n",
              "      <td>shape4_no_change1</td>\n",
              "    </tr>\n",
              "    <tr>\n",
              "      <th>3</th>\n",
              "      <td>shape5</td>\n",
              "      <td>no_change4</td>\n",
              "      <td>0</td>\n",
              "      <td>3</td>\n",
              "      <td>same</td>\n",
              "      <td>9</td>\n",
              "      <td>3093.5</td>\n",
              "      <td>control</td>\n",
              "      <td>same</td>\n",
              "      <td>shape5_no_change4</td>\n",
              "      <td>1</td>\n",
              "      <td>none</td>\n",
              "      <td>1</td>\n",
              "      <td>shape5_no_change4</td>\n",
              "    </tr>\n",
              "    <tr>\n",
              "      <th>4</th>\n",
              "      <td>shape1</td>\n",
              "      <td>no_change4</td>\n",
              "      <td>0</td>\n",
              "      <td>4</td>\n",
              "      <td>same</td>\n",
              "      <td>9</td>\n",
              "      <td>1870.6</td>\n",
              "      <td>control</td>\n",
              "      <td>same</td>\n",
              "      <td>shape1_no_change4</td>\n",
              "      <td>1</td>\n",
              "      <td>none</td>\n",
              "      <td>1</td>\n",
              "      <td>shape1_no_change4</td>\n",
              "    </tr>\n",
              "  </tbody>\n",
              "</table>\n",
              "</div>"
            ],
            "text/plain": [
              "         shape  changeType  blockNum  trialID   response  confidence      rt  \\\n",
              "0       shape6  no_change1         0        0       same           8  5088.3   \n",
              "1  catch_shape     change1         0        1  different           9  3265.9   \n",
              "2       shape4  no_change1         0        2       same           9  2182.2   \n",
              "3       shape5  no_change4         0        3       same           9  3093.5   \n",
              "4       shape1  no_change4         0        4       same           9  1870.6   \n",
              "\n",
              "  experimentVersion correctAnswer        fullShapeName  responded_correctly  \\\n",
              "0           control          same    shape6_no_change1                    1   \n",
              "1           control     different  catch_shape_change1                    1   \n",
              "2           control          same    shape4_no_change1                    1   \n",
              "3           control          same    shape5_no_change4                    1   \n",
              "4           control          same    shape1_no_change4                    1   \n",
              "\n",
              "  analysisChangeType  subject            condition  \n",
              "0               none        1    shape6_no_change1  \n",
              "1               none        1  catch_shape_change1  \n",
              "2               none        1    shape4_no_change1  \n",
              "3               none        1    shape5_no_change4  \n",
              "4               none        1    shape1_no_change4  "
            ]
          },
          "execution_count": 6,
          "metadata": {},
          "output_type": "execute_result"
        }
      ],
      "source": [
        "data3b.head()"
      ]
    },
    {
      "cell_type": "code",
      "execution_count": 7,
      "metadata": {
        "id": "hRtkIjuybhwo"
      },
      "outputs": [
        {
          "name": "stderr",
          "output_type": "stream",
          "text": [
            "C:\\Users\\andic\\AppData\\Local\\Temp\\ipykernel_2332\\4108794198.py:2: FutureWarning: A value is trying to be set on a copy of a DataFrame or Series through chained assignment using an inplace method.\n",
            "The behavior will change in pandas 3.0. This inplace method will never work because the intermediate object on which we are setting values always behaves as a copy.\n",
            "\n",
            "For example, when doing 'df[col].method(value, inplace=True)', try using 'df.method({col: value}, inplace=True)' or df[col] = df[col].method(value) instead, to perform the operation inplace on the original object.\n",
            "\n",
            "\n",
            "  data3a[\"response\"].replace(to_replace=\"same\", value=0, inplace=True)\n",
            "C:\\Users\\andic\\AppData\\Local\\Temp\\ipykernel_2332\\4108794198.py:3: FutureWarning: A value is trying to be set on a copy of a DataFrame or Series through chained assignment using an inplace method.\n",
            "The behavior will change in pandas 3.0. This inplace method will never work because the intermediate object on which we are setting values always behaves as a copy.\n",
            "\n",
            "For example, when doing 'df[col].method(value, inplace=True)', try using 'df.method({col: value}, inplace=True)' or df[col] = df[col].method(value) instead, to perform the operation inplace on the original object.\n",
            "\n",
            "\n",
            "  data3a[\"response\"].replace(to_replace=\"different\", value=1, inplace=True)\n",
            "C:\\Users\\andic\\AppData\\Local\\Temp\\ipykernel_2332\\4108794198.py:3: FutureWarning: Downcasting behavior in `replace` is deprecated and will be removed in a future version. To retain the old behavior, explicitly call `result.infer_objects(copy=False)`. To opt-in to the future behavior, set `pd.set_option('future.no_silent_downcasting', True)`\n",
            "  data3a[\"response\"].replace(to_replace=\"different\", value=1, inplace=True)\n",
            "C:\\Users\\andic\\AppData\\Local\\Temp\\ipykernel_2332\\4108794198.py:4: FutureWarning: A value is trying to be set on a copy of a DataFrame or Series through chained assignment using an inplace method.\n",
            "The behavior will change in pandas 3.0. This inplace method will never work because the intermediate object on which we are setting values always behaves as a copy.\n",
            "\n",
            "For example, when doing 'df[col].method(value, inplace=True)', try using 'df.method({col: value}, inplace=True)' or df[col] = df[col].method(value) instead, to perform the operation inplace on the original object.\n",
            "\n",
            "\n",
            "  data3b[\"response\"].replace(to_replace=\"same\", value=0, inplace=True)\n",
            "C:\\Users\\andic\\AppData\\Local\\Temp\\ipykernel_2332\\4108794198.py:5: FutureWarning: A value is trying to be set on a copy of a DataFrame or Series through chained assignment using an inplace method.\n",
            "The behavior will change in pandas 3.0. This inplace method will never work because the intermediate object on which we are setting values always behaves as a copy.\n",
            "\n",
            "For example, when doing 'df[col].method(value, inplace=True)', try using 'df.method({col: value}, inplace=True)' or df[col] = df[col].method(value) instead, to perform the operation inplace on the original object.\n",
            "\n",
            "\n",
            "  data3b[\"response\"].replace(to_replace=\"different\", value=1, inplace=True)\n",
            "C:\\Users\\andic\\AppData\\Local\\Temp\\ipykernel_2332\\4108794198.py:5: FutureWarning: Downcasting behavior in `replace` is deprecated and will be removed in a future version. To retain the old behavior, explicitly call `result.infer_objects(copy=False)`. To opt-in to the future behavior, set `pd.set_option('future.no_silent_downcasting', True)`\n",
            "  data3b[\"response\"].replace(to_replace=\"different\", value=1, inplace=True)\n"
          ]
        }
      ],
      "source": [
        "# replace string value by binary value\n",
        "data3a[\"response\"].replace(to_replace=\"same\", value=0, inplace=True)\n",
        "data3a[\"response\"].replace(to_replace=\"different\", value=1, inplace=True)\n",
        "data3b[\"response\"].replace(to_replace=\"same\", value=0, inplace=True)\n",
        "data3b[\"response\"].replace(to_replace=\"different\", value=1, inplace=True)"
      ]
    },
    {
      "cell_type": "code",
      "execution_count": 8,
      "metadata": {
        "colab": {
          "base_uri": "https://localhost:8080/"
        },
        "id": "GLQA7sjLcTjB",
        "outputId": "ee049e0b-ebab-4d0e-e43c-ba32fb0f6976"
      },
      "outputs": [
        {
          "data": {
            "text/plain": [
              "((6048, 14), (5400, 14))"
            ]
          },
          "execution_count": 8,
          "metadata": {},
          "output_type": "execute_result"
        }
      ],
      "source": [
        "data3a.shape, data3b.shape"
      ]
    },
    {
      "cell_type": "code",
      "execution_count": 9,
      "metadata": {
        "id": "knDw3OG8cOmV"
      },
      "outputs": [],
      "source": [
        "# exclude catch and no_change trials\n",
        "data3a = data3a[data3a[\"condition\"].str.contains(\"catch\")==False]\n",
        "data3a = data3a[data3a[\"condition\"].str.contains(\"no_change\")==False]\n",
        "\n",
        "data3b = data3b[data3b[\"condition\"].str.contains(\"catch\")==False]\n",
        "data3b = data3b[data3b[\"condition\"].str.contains(\"no_change\")==False]"
      ]
    },
    {
      "cell_type": "code",
      "execution_count": 10,
      "metadata": {
        "colab": {
          "base_uri": "https://localhost:8080/"
        },
        "id": "lSb-csN5a6lz",
        "outputId": "8025f178-8670-4957-bff0-e65b232159b8"
      },
      "outputs": [
        {
          "data": {
            "text/plain": [
              "condition\n",
              "shape1_concave_area1           0.553571\n",
              "shape1_concave_area2           0.785714\n",
              "shape1_concave_nofill_area1    0.642857\n",
              "shape1_concave_nofill_area2    0.678571\n",
              "shape1_convex_area1            0.732143\n",
              "shape1_convex_area2            0.821429\n",
              "shape2_concave_area1           0.821429\n",
              "shape2_concave_area2           0.785714\n",
              "shape2_concave_nofill_area1    0.928571\n",
              "shape2_concave_nofill_area2    0.678571\n",
              "Name: response, dtype: float64"
            ]
          },
          "execution_count": 10,
          "metadata": {},
          "output_type": "execute_result"
        }
      ],
      "source": [
        "data3a.groupby([\"condition\"])[\"response\"].mean()[:10]"
      ]
    },
    {
      "cell_type": "code",
      "execution_count": 11,
      "metadata": {
        "colab": {
          "base_uri": "https://localhost:8080/"
        },
        "id": "N9-vTzhU4rS_",
        "outputId": "2889bc47-cb60-4d44-dec6-87f7f68e8be1"
      },
      "outputs": [
        {
          "data": {
            "text/plain": [
              "condition\n",
              "shape1_concave_area1           0.68\n",
              "shape1_concave_area2           0.86\n",
              "shape1_concave_nofill_area1    0.78\n",
              "shape1_concave_nofill_area2    0.60\n",
              "shape1_convex_area1            0.88\n",
              "shape1_convex_area2            0.94\n",
              "shape2_concave_area1           0.84\n",
              "shape2_concave_area2           0.98\n",
              "shape2_concave_nofill_area1    1.00\n",
              "shape2_concave_nofill_area2    0.88\n",
              "Name: response, dtype: float64"
            ]
          },
          "execution_count": 11,
          "metadata": {},
          "output_type": "execute_result"
        }
      ],
      "source": [
        "data3b.groupby([\"condition\"])[\"response\"].mean()[:10]"
      ]
    },
    {
      "cell_type": "code",
      "execution_count": 12,
      "metadata": {
        "id": "Ebosd8ane4kl"
      },
      "outputs": [],
      "source": [
        "df3a = pd.DataFrame(data3a.groupby([\"condition\"])[\"response\"].mean()).reset_index()\n",
        "df3b = pd.DataFrame(data3b.groupby([\"condition\"])[\"response\"].mean()).reset_index()"
      ]
    },
    {
      "cell_type": "code",
      "execution_count": 13,
      "metadata": {
        "colab": {
          "base_uri": "https://localhost:8080/",
          "height": 206
        },
        "id": "7S-rtQMfgpK8",
        "outputId": "7cb9b68a-fff7-4dcb-d607-3c07005ea889"
      },
      "outputs": [
        {
          "data": {
            "application/vnd.microsoft.datawrangler.viewer.v0+json": {
              "columns": [
                {
                  "name": "index",
                  "rawType": "int64",
                  "type": "integer"
                },
                {
                  "name": "condition",
                  "rawType": "object",
                  "type": "string"
                },
                {
                  "name": "response",
                  "rawType": "float64",
                  "type": "float"
                }
              ],
              "conversionMethod": "pd.DataFrame",
              "ref": "58850ea5-351b-42f0-aab2-b347dcb4cd95",
              "rows": [
                [
                  "0",
                  "shape1_concave_area1",
                  "0.5535714285714286"
                ],
                [
                  "1",
                  "shape1_concave_area2",
                  "0.7857142857142857"
                ],
                [
                  "2",
                  "shape1_concave_nofill_area1",
                  "0.6428571428571429"
                ],
                [
                  "3",
                  "shape1_concave_nofill_area2",
                  "0.6785714285714286"
                ],
                [
                  "4",
                  "shape1_convex_area1",
                  "0.7321428571428571"
                ]
              ],
              "shape": {
                "columns": 2,
                "rows": 5
              }
            },
            "text/html": [
              "<div>\n",
              "<style scoped>\n",
              "    .dataframe tbody tr th:only-of-type {\n",
              "        vertical-align: middle;\n",
              "    }\n",
              "\n",
              "    .dataframe tbody tr th {\n",
              "        vertical-align: top;\n",
              "    }\n",
              "\n",
              "    .dataframe thead th {\n",
              "        text-align: right;\n",
              "    }\n",
              "</style>\n",
              "<table border=\"1\" class=\"dataframe\">\n",
              "  <thead>\n",
              "    <tr style=\"text-align: right;\">\n",
              "      <th></th>\n",
              "      <th>condition</th>\n",
              "      <th>response</th>\n",
              "    </tr>\n",
              "  </thead>\n",
              "  <tbody>\n",
              "    <tr>\n",
              "      <th>0</th>\n",
              "      <td>shape1_concave_area1</td>\n",
              "      <td>0.553571</td>\n",
              "    </tr>\n",
              "    <tr>\n",
              "      <th>1</th>\n",
              "      <td>shape1_concave_area2</td>\n",
              "      <td>0.785714</td>\n",
              "    </tr>\n",
              "    <tr>\n",
              "      <th>2</th>\n",
              "      <td>shape1_concave_nofill_area1</td>\n",
              "      <td>0.642857</td>\n",
              "    </tr>\n",
              "    <tr>\n",
              "      <th>3</th>\n",
              "      <td>shape1_concave_nofill_area2</td>\n",
              "      <td>0.678571</td>\n",
              "    </tr>\n",
              "    <tr>\n",
              "      <th>4</th>\n",
              "      <td>shape1_convex_area1</td>\n",
              "      <td>0.732143</td>\n",
              "    </tr>\n",
              "  </tbody>\n",
              "</table>\n",
              "</div>"
            ],
            "text/plain": [
              "                     condition  response\n",
              "0         shape1_concave_area1  0.553571\n",
              "1         shape1_concave_area2  0.785714\n",
              "2  shape1_concave_nofill_area1  0.642857\n",
              "3  shape1_concave_nofill_area2  0.678571\n",
              "4          shape1_convex_area1  0.732143"
            ]
          },
          "execution_count": 13,
          "metadata": {},
          "output_type": "execute_result"
        }
      ],
      "source": [
        "df3a.head()"
      ]
    },
    {
      "cell_type": "code",
      "execution_count": 14,
      "metadata": {
        "colab": {
          "base_uri": "https://localhost:8080/",
          "height": 206
        },
        "id": "Co-AHicD5BFK",
        "outputId": "62efc4c2-981a-4a6c-8583-e5be617d55ba"
      },
      "outputs": [
        {
          "data": {
            "application/vnd.microsoft.datawrangler.viewer.v0+json": {
              "columns": [
                {
                  "name": "index",
                  "rawType": "int64",
                  "type": "integer"
                },
                {
                  "name": "condition",
                  "rawType": "object",
                  "type": "string"
                },
                {
                  "name": "response",
                  "rawType": "float64",
                  "type": "float"
                }
              ],
              "conversionMethod": "pd.DataFrame",
              "ref": "82abcb2e-f998-4db8-8c17-f6498b00832a",
              "rows": [
                [
                  "0",
                  "shape1_concave_area1",
                  "0.68"
                ],
                [
                  "1",
                  "shape1_concave_area2",
                  "0.86"
                ],
                [
                  "2",
                  "shape1_concave_nofill_area1",
                  "0.78"
                ],
                [
                  "3",
                  "shape1_concave_nofill_area2",
                  "0.6"
                ],
                [
                  "4",
                  "shape1_convex_area1",
                  "0.88"
                ]
              ],
              "shape": {
                "columns": 2,
                "rows": 5
              }
            },
            "text/html": [
              "<div>\n",
              "<style scoped>\n",
              "    .dataframe tbody tr th:only-of-type {\n",
              "        vertical-align: middle;\n",
              "    }\n",
              "\n",
              "    .dataframe tbody tr th {\n",
              "        vertical-align: top;\n",
              "    }\n",
              "\n",
              "    .dataframe thead th {\n",
              "        text-align: right;\n",
              "    }\n",
              "</style>\n",
              "<table border=\"1\" class=\"dataframe\">\n",
              "  <thead>\n",
              "    <tr style=\"text-align: right;\">\n",
              "      <th></th>\n",
              "      <th>condition</th>\n",
              "      <th>response</th>\n",
              "    </tr>\n",
              "  </thead>\n",
              "  <tbody>\n",
              "    <tr>\n",
              "      <th>0</th>\n",
              "      <td>shape1_concave_area1</td>\n",
              "      <td>0.68</td>\n",
              "    </tr>\n",
              "    <tr>\n",
              "      <th>1</th>\n",
              "      <td>shape1_concave_area2</td>\n",
              "      <td>0.86</td>\n",
              "    </tr>\n",
              "    <tr>\n",
              "      <th>2</th>\n",
              "      <td>shape1_concave_nofill_area1</td>\n",
              "      <td>0.78</td>\n",
              "    </tr>\n",
              "    <tr>\n",
              "      <th>3</th>\n",
              "      <td>shape1_concave_nofill_area2</td>\n",
              "      <td>0.60</td>\n",
              "    </tr>\n",
              "    <tr>\n",
              "      <th>4</th>\n",
              "      <td>shape1_convex_area1</td>\n",
              "      <td>0.88</td>\n",
              "    </tr>\n",
              "  </tbody>\n",
              "</table>\n",
              "</div>"
            ],
            "text/plain": [
              "                     condition  response\n",
              "0         shape1_concave_area1      0.68\n",
              "1         shape1_concave_area2      0.86\n",
              "2  shape1_concave_nofill_area1      0.78\n",
              "3  shape1_concave_nofill_area2      0.60\n",
              "4          shape1_convex_area1      0.88"
            ]
          },
          "execution_count": 14,
          "metadata": {},
          "output_type": "execute_result"
        }
      ],
      "source": [
        "df3b.head()"
      ]
    },
    {
      "cell_type": "code",
      "execution_count": 15,
      "metadata": {
        "colab": {
          "base_uri": "https://localhost:8080/"
        },
        "id": "6DaOriRUf8Au",
        "outputId": "559f1a31-a53b-48af-b5a4-14ce31830a29"
      },
      "outputs": [
        {
          "name": "stdout",
          "output_type": "stream",
          "text": [
            "               condition  response\n",
            "0   shape1_concave_area1  0.553571\n",
            "1   shape1_concave_area2  0.785714\n",
            "6   shape2_concave_area1  0.821429\n",
            "7   shape2_concave_area2  0.785714\n",
            "12  shape3_concave_area1  0.267857\n",
            "13  shape3_concave_area2  0.482143\n",
            "18  shape4_concave_area1  0.410714\n",
            "19  shape4_concave_area2  0.946429\n",
            "24  shape5_concave_area1  0.464286\n",
            "25  shape5_concave_area2  0.625000\n",
            "30  shape6_concave_area1  0.410714\n",
            "31  shape6_concave_area2  0.607143\n",
            "36  shape7_concave_area1  0.303571\n",
            "37  shape7_concave_area2  0.607143\n",
            "42  shape8_concave_area1  0.428571\n",
            "43  shape8_concave_area2  0.660714\n",
            "               condition  response\n",
            "0   shape1_concave_area1      0.68\n",
            "1   shape1_concave_area2      0.86\n",
            "6   shape2_concave_area1      0.84\n",
            "7   shape2_concave_area2      0.98\n",
            "12  shape3_concave_area1      0.38\n",
            "13  shape3_concave_area2      0.50\n",
            "18  shape4_concave_area1      0.86\n",
            "19  shape4_concave_area2      0.94\n",
            "24  shape5_concave_area1      0.56\n",
            "25  shape5_concave_area2      0.84\n",
            "30  shape6_concave_area1      0.76\n",
            "31  shape6_concave_area2      0.72\n",
            "36  shape7_concave_area1      0.40\n",
            "37  shape7_concave_area2      0.66\n",
            "42  shape8_concave_area1      0.68\n",
            "43  shape8_concave_area2      0.90\n"
          ]
        }
      ],
      "source": [
        "# Extract percentage of noticing change in each condition in exp 3a and 3b\n",
        "print(df3a[df3a['condition'].str.contains(\"concave_area\")==True])\n",
        "concave3a = df3a[df3a['condition'].str.contains(\"concave_area\")==True][\"response\"].to_numpy() * 100\n",
        "convex3a = df3a[df3a['condition'].str.contains(\"convex_area\")==True][\"response\"].to_numpy() * 100\n",
        "nofill3a = df3a[df3a['condition'].str.contains(\"concave_nofill_area\")==True][\"response\"].to_numpy() * 100\n",
        "\n",
        "print(df3b[df3b['condition'].str.contains(\"concave_area\")==True])\n",
        "concave3b = df3b[df3b['condition'].str.contains(\"concave_area\")==True][\"response\"].to_numpy() * 100\n",
        "convex3b = df3b[df3b['condition'].str.contains(\"convex_area\")==True][\"response\"].to_numpy() * 100\n",
        "nofill3b = df3b[df3b['condition'].str.contains(\"concave_nofill_area\")==True][\"response\"].to_numpy() * 100"
      ]
    },
    {
      "cell_type": "code",
      "execution_count": 16,
      "metadata": {
        "id": "F7BxqMi54MeM"
      },
      "outputs": [],
      "source": [
        "assert len(concave3a) == len(concave3b)\n",
        "assert len(convex3a) == len(convex3b)\n",
        "assert len(nofill3a) == len(nofill3b)"
      ]
    },
    {
      "cell_type": "markdown",
      "metadata": {
        "id": "kyQ7Ww_JBK8r"
      },
      "source": [
        "# Compare Percentage of Noticing Change"
      ]
    },
    {
      "cell_type": "code",
      "execution_count": 17,
      "metadata": {
        "id": "QN5-SIE17Qr9"
      },
      "outputs": [],
      "source": [
        "def significance(pvalue):\n",
        "  # labeling significance level by p value\n",
        "  if pvalue < 0.001:\n",
        "    return '***'\n",
        "  elif pvalue < 0.01:\n",
        "    return '**'\n",
        "  elif pvalue < 0.05:\n",
        "    return '*'\n",
        "  else:\n",
        "    return 'NS'"
      ]
    },
    {
      "cell_type": "code",
      "execution_count": 18,
      "metadata": {
        "colab": {
          "base_uri": "https://localhost:8080/",
          "height": 626
        },
        "id": "hHKkif8yhlz1",
        "outputId": "ca911a17-6c5d-4791-faa0-dd89476cc7f8"
      },
      "outputs": [
        {
          "data": {
            "image/png": "[encoded data removed]",
            "text/plain": [
              "<Figure size 2200x1800 with 1 Axes>"
            ]
          },
          "metadata": {},
          "output_type": "display_data"
        }
      ],
      "source": [
        "_, ax = plt.subplots(1,1, figsize=(22, 18))\n",
        "LABELFONT = 64\n",
        "TICKFONT = 50\n",
        "LEGENDFONT = 50\n",
        "\n",
        "# Plot exp 3a data\n",
        "ax.bar(0, concave3a.mean(), 1, \n",
        "       yerr = [stats.sem(concave3a)],\n",
        "       error_kw=dict(lw=5, capsize=12, capthick=3),\n",
        "       alpha=0.7, color='orange', edgecolor='k', \n",
        "       label='Concave')\n",
        "ax.bar(1, nofill3a.mean(), 1, \n",
        "       yerr = [stats.sem(nofill3a)],\n",
        "       error_kw=dict(lw=5, capsize=12, capthick=3),\n",
        "       alpha=0.7, color='darkgoldenrod', edgecolor='k', \n",
        "       label='NoFill')\n",
        "ax.bar(2, convex3a.mean(), 1, \n",
        "       yerr = [stats.sem(convex3a)],\n",
        "       error_kw=dict(lw=5, capsize=12, capthick=3),\n",
        "       alpha=0.7, color='green', edgecolor='k', \n",
        "       label='Convex')\n",
        "\n",
        "#---CHANGE---\n",
        "concave3b_mean = concave3b.mean()\n",
        "nofill3b_mean = nofill3b.mean()\n",
        "convex3b_mean = convex3b.mean()\n",
        "#------------\n",
        "\n",
        "# Plot exp 3b data\n",
        "plt.rcParams['hatch.linewidth'] = 3\n",
        "ax.bar(4, concave3b.mean(), 1, \n",
        "       yerr = [stats.sem(concave3b)],\n",
        "       error_kw=dict(lw=5, capsize=12, capthick=3),\n",
        "       alpha=0.7, color='orange', edgecolor='k', \n",
        "       hatch='/')\n",
        "ax.bar(5, nofill3b.mean(), 1, \n",
        "       yerr = [stats.sem(nofill3b)],\n",
        "       error_kw=dict(lw=5, capsize=12, capthick=3),\n",
        "       alpha=0.7, color='darkgoldenrod', edgecolor='k', \n",
        "       hatch='/')\n",
        "ax.bar(6, convex3b.mean(), 1, \n",
        "       yerr = [stats.sem(convex3b)], \n",
        "       error_kw=dict(lw=5, capsize=12, capthick=3),\n",
        "       alpha=0.7, color='green', edgecolor='k', \n",
        "       hatch='/')\n",
        "\n",
        "\n",
        "# Annotate paired t-test results across conditions in exp 3a\n",
        "x1, x2, y, h = 0, 1, nofill3a.mean()+4, 1\n",
        "sig = significance(stats.ttest_rel(concave3a, nofill3a)[1])\n",
        "ax.plot([x1, x1, x2, x2], [y, y+h, y+h, y], lw=2, c='k')\n",
        "ax.text((x1+x2)*.5, y-h, sig, ha='center', va='bottom', color='k', fontsize=TICKFONT)\n",
        "x1, x2, y, h = 1, 2, nofill3a.mean()+4, 1\n",
        "sig = significance(stats.ttest_rel(nofill3a, convex3a)[1])\n",
        "ax.plot([x1, x1, x2, x2], [y, y+h, y+h, y], lw=2, c='k')\n",
        "ax.text((x1+x2)*.5, y+h*0.3, sig, ha='center', va='bottom', color='k', fontsize=TICKFONT)\n",
        "x1, x2, y, h = 0, 2, nofill3a.mean()+10, 1\n",
        "sig = significance(stats.ttest_rel(concave3a, convex3a)[1])\n",
        "ax.plot([x1, x1, x2, x2], [y, y+h, y+h, y], lw=2, c='k')\n",
        "ax.text((x1+x2)*.5, y-h, sig, ha='center', va='bottom', color='k', fontsize=TICKFONT)\n",
        "\n",
        "# Annotate paired t-test results across conditions in exp 3b\n",
        "x1, x2, y, h = 4, 5, nofill3b.mean()+4, 1\n",
        "sig = significance(stats.ttest_rel(concave3b, nofill3b)[1])\n",
        "ax.plot([x1, x1, x2, x2], [y, y+h, y+h, y], lw=2, c='k')\n",
        "ax.text((x1+x2)*.5, y-h, sig, ha='center', va='bottom', color='k', fontsize=TICKFONT)\n",
        "x1, x2, y, h = 5, 6, nofill3b.mean()+4, 1\n",
        "sig = significance(stats.ttest_rel(nofill3b, convex3b)[1])\n",
        "ax.plot([x1, x1, x2, x2], [y, y+h, y+h, y], lw=2, c='k')\n",
        "ax.text((x1+x2)*.5, y+h*0.3, sig, ha='center', va='bottom', color='k', fontsize=TICKFONT)\n",
        "x1, x2, y, h = 4, 6, nofill3b.mean()+10, 1\n",
        "sig = significance(stats.ttest_rel(concave3b, convex3b)[1])\n",
        "ax.plot([x1, x1, x2, x2], [y, y+h, y+h, y], lw=2, c='k', clip_on=False)\n",
        "ax.text((x1+x2)*.5, y-h, sig, ha='center', va='bottom', color='k', fontsize=TICKFONT)\n",
        "\n",
        "# Annotate significance level of comparison between 3a and 3b (see the R code for logistic ANOVA)\n",
        "x1, x2, y, h = 1, 5, nofill3b.mean()+15, 1\n",
        "sig = significance(0.0009) # some arbitrary value p<.001\n",
        "ax.plot([x1, x1, x2, x2], [y-5*h, y+h, y+h, y], lw=2, c='k', clip_on=False)\n",
        "ax.text((x1+x2)*.5, y-h, sig, ha='center', va='bottom', color='k', fontsize=TICKFONT)\n",
        "\n",
        "\n",
        "# Plotting\n",
        "ax.set_ylabel('% Noticing Change', fontsize=LABELFONT)\n",
        "ax.set_xticks(np.arange(7))\n",
        "ax.set_xticklabels(['', 'Exp 3a', '', '', '', 'Exp 3b', ''], fontsize=LABELFONT)\n",
        "ax.tick_params(axis='x', labelsize=LABELFONT)\n",
        "ax.set_ylim(0, 100)\n",
        "ax.spines['right'].set_visible(False)\n",
        "ax.spines['top'].set_visible(False)\n",
        "ax.yaxis.set_ticks_position('left')\n",
        "ax.xaxis.set_ticks_position('bottom')\n",
        "plt.yticks(fontsize=TICKFONT)\n",
        "# make legend\n",
        "legend_elements = [Patch(facecolor='orange', edgecolor='k', alpha=0.7, label='Concave'),\n",
        "                   Patch(facecolor='darkgoldenrod', edgecolor='k', alpha=0.7, label='NoFill'),\n",
        "                   Patch(facecolor='green', edgecolor='k', alpha=0.7, label='Convex'),]\n",
        "leg1 = plt.legend(handles=legend_elements[:3], ncol=3, loc=\"upper center\", fontsize=LEGENDFONT, bbox_to_anchor=(0.5, 1.23))\n",
        "plt.gca().add_artist(leg1)\n",
        "leg2 = plt.legend(handles=legend_elements[3:], ncol=3, loc=\"upper center\", fontsize=LEGENDFONT, bbox_to_anchor=(0.5, 1.4))\n",
        "leg2.remove()\n",
        "leg1._legend_box._children.append(leg2._legend_handle_box)\n",
        "leg1._legend_box.stale = True"
      ]
    }
  ],
  "metadata": {
    "colab": {
      "collapsed_sections": [],
      "name": "Exp3_analysis_FINAL.ipynb",
      "provenance": []
    },
    "kernelspec": {
      "display_name": "object_reps_neural",
      "language": "python",
      "name": "python3"
    },
    "language_info": {
      "codemirror_mode": {
        "name": "ipython",
        "version": 3
      },
      "file_extension": ".py",
      "mimetype": "text/x-python",
      "name": "python",
      "nbconvert_exporter": "python",
      "pygments_lexer": "ipython3",
      "version": "3.12.9"
    }
  },
  "nbformat": 4,
  "nbformat_minor": 0
}
